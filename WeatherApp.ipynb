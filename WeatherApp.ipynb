{
 "cells": [
  {
   "cell_type": "markdown",
   "id": "fcc2ed4b",
   "metadata": {},
   "source": [
    "### Created an Weather App in python by getting the user's location from their IP Address and using OpenWeatherMap API and ipinfo.io.\n",
    "This program gets weather details by both IP address and city name. Users can select their choice.It not only displays today's weather but also weather details of the next 4 days too."
   ]
  },
  {
   "cell_type": "code",
   "execution_count": 2,
   "id": "60ee9c1e",
   "metadata": {},
   "outputs": [
    {
     "name": "stdout",
     "output_type": "stream",
     "text": [
      "Hi!!! Your region weather report on your Fingertips:\n",
      "Select the method by which you want to know the weather details:\n",
      "1.Get Weather By IP Address\n",
      "2.Get Weather By City Name\n",
      "Enter Your choice:2\n",
      "##------------------------------------------------------------##\n",
      "Enter city name : Delhi\n",
      "     Min_Temperature (in Kelvin Unit)= 308.2 \n",
      "     Max_Temperature (in Kelvin Unit)= 308.2 \n",
      "     Atmospheric pressure (in hPa unit) = 1007 \n",
      "     Humidity (in percentage)= 52 \n",
      "     Wind Speed (meters/second)= 4.63 \n",
      "     Description= haze\n",
      "Have a Nice Day:)\n"
     ]
    }
   ],
   "source": [
    "import json\n",
    "import urllib.request\n",
    "import requests\n",
    "import datetime\n",
    "\n",
    "def get_location_from_city():\n",
    "    api_key = '61f5a1c0f1d82ce03b8ddc5ee32de10c'\n",
    "    base_url = \"http://api.openweathermap.org/data/2.5/weather?\"\n",
    "    city_name = input(\"Enter city name : \")\n",
    "    complete_url = base_url + \"appid=\" + api_key + \"&q=\" + city_name\n",
    "    response = requests.get(complete_url)\n",
    "    x = response.json()\n",
    "    if x[\"cod\"] != \"404\":\n",
    "        y = x[\"main\"]\n",
    "        print(r\"     Min_Temperature (in Kelvin Unit)=\",y['temp_min'],\"\\n\",\n",
    "              r\"    Max_Temperature (in Kelvin Unit)=\",y['temp_max'],\"\\n\",\n",
    "              r\"    Atmospheric pressure (in hPa unit) =\",y['pressure'],\"\\n\",\n",
    "              r\"    Humidity (in percentage)=\",y['humidity'],\"\\n\",\n",
    "              r\"    Wind Speed (meters/second)=\",x['wind']['speed'],\"\\n\",\n",
    "              r\"    Description=\",x['weather'][0]['description']\n",
    "             )\n",
    "        print(\"Have a Nice Day:)\")\n",
    "    else:\n",
    "        print(r\" City Not Found :(\")\n",
    "    \n",
    "\n",
    "def get_location_fromIP():\n",
    "    response = urllib.request.urlopen('http://ipinfo.io/json')\n",
    "    data = json.load(response)\n",
    "    IP=data['ip']\n",
    "    print('Your IP Address is :',data['ip'])\n",
    "    get_weather_report(data['loc'].split(\",\"),data['city'],data['region'])\n",
    "    \n",
    "\n",
    "def get_weather_report(loc,city,region):\n",
    "    api_key = '61f5a1c0f1d82ce03b8ddc5ee32de10c'\n",
    "    base_url = \"https://api.openweathermap.org/data/2.5/onecall?\"\n",
    "    lat,lon=str(loc[0]),str(loc[1]);\n",
    "    complete_url=base_url+'lat='+lat+'&lon='+lon+'&exclude=current,minutely,hourly,alerts&appid='+api_key\n",
    "    response = requests.get(complete_url)\n",
    "    x = response.json()\n",
    "    print(\"Your City -\",city,\",\",region,\"has recorded the following details:\")\n",
    "    for i in range(5):\n",
    "        y=x['daily'][i]\n",
    "        print(datetime.datetime.fromtimestamp(y['dt']).strftime('%d-%m-%Y'))\n",
    "        print(r\"     Min_Temperature (in Kelvin Unit)=\",y['temp']['min'],\"\\n\",\n",
    "              r\"    Max_Temperature (in Kelvin Unit)=\",y['temp']['max'],\"\\n\",\n",
    "              r\"    Atmospheric pressure (in hPa unit) =\",y['pressure'],\"\\n\",\n",
    "              r\"    Humidity (in percentage)=\",y['humidity'],\"\\n\",\n",
    "              r\"    Wind Speed (meters/second)=\",y['wind_speed'],\"\\n\",\n",
    "              r\"    Description=\",y['weather'][0]['description']\n",
    "             )\n",
    "    print(\"Have a Nice Day:)\")\n",
    "\n",
    "\n",
    "\n",
    "print(\"Hi!!! Your region weather report on your Fingertips:\")\n",
    "print(\"Select the method by which you want to know the weather details:\")\n",
    "print(\"1.Get Weather By IP Address\\n2.Get Weather By City Name\")\n",
    "choice=int(input(\"Enter Your choice:\"))\n",
    "print(\"##------------------------------------------------------------##\")\n",
    "if choice==1:\n",
    "    get_location_fromIP()\n",
    "elif choice==2:\n",
    "    get_location_from_city()\n",
    "else:\n",
    "    print(r\"Invalid Input :(\")"
   ]
  },
  {
   "cell_type": "code",
   "execution_count": null,
   "id": "dfc067c1",
   "metadata": {},
   "outputs": [],
   "source": []
  }
 ],
 "metadata": {
  "kernelspec": {
   "display_name": "Python 3",
   "language": "python",
   "name": "python3"
  },
  "language_info": {
   "codemirror_mode": {
    "name": "ipython",
    "version": 3
   },
   "file_extension": ".py",
   "mimetype": "text/x-python",
   "name": "python",
   "nbconvert_exporter": "python",
   "pygments_lexer": "ipython3",
   "version": "3.8.8"
  }
 },
 "nbformat": 4,
 "nbformat_minor": 5
}
